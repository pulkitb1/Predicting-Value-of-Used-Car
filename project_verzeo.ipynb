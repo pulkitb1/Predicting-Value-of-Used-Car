{
 "cells": [
  {
   "cell_type": "code",
   "execution_count": 1,
   "metadata": {},
   "outputs": [
    {
     "name": "stdout",
     "output_type": "stream",
     "text": [
      "jayshreeram\n"
     ]
    }
   ],
   "source": [
    "print(\"jayshreeram\")"
   ]
  },
  {
   "cell_type": "code",
   "execution_count": 2,
   "metadata": {},
   "outputs": [],
   "source": [
    "import pandas as pd\n",
    "import numpy as np\n",
    "import matplotlib.pyplot as plt\n",
    "df = pd.read_csv(r'C:\\Users\\Pulkit-PC\\Downloads\\appstore_games.csv')   #importing the csv file from the repective directory"
   ]
  },
  {
   "cell_type": "code",
   "execution_count": 3,
   "metadata": {},
   "outputs": [
    {
     "data": {
      "text/plain": [
       "Index(['URL', 'ID', 'Name', 'Subtitle', 'Icon_URL', 'Average_User_Rating',\n",
       "       'User_Rating_Count', 'Price', 'In-app_Purchases', 'Description',\n",
       "       'Developer', 'Age_Rating', 'Languages', 'Size', 'Primary_Genre',\n",
       "       'Genres', 'Original_Release_Date', 'Current_Version_Release_Date'],\n",
       "      dtype='object')"
      ]
     },
     "execution_count": 3,
     "metadata": {},
     "output_type": "execute_result"
    }
   ],
   "source": [
    "df.columns = df.columns.str.replace(' ', '_')  #replacing the spaces in column names with '_'\n",
    "df.columns"
   ]
  },
  {
   "cell_type": "code",
   "execution_count": 4,
   "metadata": {},
   "outputs": [
    {
     "data": {
      "text/plain": [
       "(16286, 18)"
      ]
     },
     "execution_count": 4,
     "metadata": {},
     "output_type": "execute_result"
    }
   ],
   "source": [
    "df = df[df.Primary_Genre=='Games']   # removing all the non games data\n",
    "df.shape"
   ]
  },
  {
   "cell_type": "code",
   "execution_count": 5,
   "metadata": {},
   "outputs": [
    {
     "data": {
      "text/html": [
       "<div>\n",
       "<style scoped>\n",
       "    .dataframe tbody tr th:only-of-type {\n",
       "        vertical-align: middle;\n",
       "    }\n",
       "\n",
       "    .dataframe tbody tr th {\n",
       "        vertical-align: top;\n",
       "    }\n",
       "\n",
       "    .dataframe thead th {\n",
       "        text-align: right;\n",
       "    }\n",
       "</style>\n",
       "<table border=\"1\" class=\"dataframe\">\n",
       "  <thead>\n",
       "    <tr style=\"text-align: right;\">\n",
       "      <th></th>\n",
       "      <th>URL</th>\n",
       "      <th>ID</th>\n",
       "      <th>Name</th>\n",
       "      <th>Subtitle</th>\n",
       "      <th>Icon_URL</th>\n",
       "      <th>Average_User_Rating</th>\n",
       "      <th>User_Rating_Count</th>\n",
       "      <th>Price</th>\n",
       "      <th>In-app_Purchases</th>\n",
       "      <th>Description</th>\n",
       "      <th>Developer</th>\n",
       "      <th>Age_Rating</th>\n",
       "      <th>Languages</th>\n",
       "      <th>Size</th>\n",
       "      <th>Primary_Genre</th>\n",
       "      <th>Genres</th>\n",
       "      <th>Original_Release_Date</th>\n",
       "      <th>Current_Version_Release_Date</th>\n",
       "    </tr>\n",
       "  </thead>\n",
       "  <tbody>\n",
       "    <tr>\n",
       "      <td>0</td>\n",
       "      <td>https://apps.apple.com/us/app/sudoku/id284921427</td>\n",
       "      <td>284921427</td>\n",
       "      <td>Sudoku</td>\n",
       "      <td>NaN</td>\n",
       "      <td>https://is2-ssl.mzstatic.com/image/thumb/Purpl...</td>\n",
       "      <td>4.0</td>\n",
       "      <td>3553.0</td>\n",
       "      <td>2.99</td>\n",
       "      <td>NaN</td>\n",
       "      <td>Join over 21,000,000 of our fans and download ...</td>\n",
       "      <td>Mighty Mighty Good Games</td>\n",
       "      <td>4+</td>\n",
       "      <td>DA, NL, EN, FI, FR, DE, IT, JA, KO, NB, PL, PT...</td>\n",
       "      <td>15853568.0</td>\n",
       "      <td>Games</td>\n",
       "      <td>Games, Strategy, Puzzle</td>\n",
       "      <td>11/07/2008</td>\n",
       "      <td>30/05/2017</td>\n",
       "    </tr>\n",
       "    <tr>\n",
       "      <td>1</td>\n",
       "      <td>https://apps.apple.com/us/app/reversi/id284926400</td>\n",
       "      <td>284926400</td>\n",
       "      <td>Reversi</td>\n",
       "      <td>NaN</td>\n",
       "      <td>https://is4-ssl.mzstatic.com/image/thumb/Purpl...</td>\n",
       "      <td>3.5</td>\n",
       "      <td>284.0</td>\n",
       "      <td>1.99</td>\n",
       "      <td>NaN</td>\n",
       "      <td>The classic game of Reversi, also known as Oth...</td>\n",
       "      <td>Kiss The Machine</td>\n",
       "      <td>4+</td>\n",
       "      <td>EN</td>\n",
       "      <td>12328960.0</td>\n",
       "      <td>Games</td>\n",
       "      <td>Games, Strategy, Board</td>\n",
       "      <td>11/07/2008</td>\n",
       "      <td>17/05/2018</td>\n",
       "    </tr>\n",
       "    <tr>\n",
       "      <td>2</td>\n",
       "      <td>https://apps.apple.com/us/app/morocco/id284946595</td>\n",
       "      <td>284946595</td>\n",
       "      <td>Morocco</td>\n",
       "      <td>NaN</td>\n",
       "      <td>https://is5-ssl.mzstatic.com/image/thumb/Purpl...</td>\n",
       "      <td>3.0</td>\n",
       "      <td>8376.0</td>\n",
       "      <td>0.00</td>\n",
       "      <td>NaN</td>\n",
       "      <td>Play the classic strategy game Othello (also k...</td>\n",
       "      <td>Bayou Games</td>\n",
       "      <td>4+</td>\n",
       "      <td>EN</td>\n",
       "      <td>674816.0</td>\n",
       "      <td>Games</td>\n",
       "      <td>Games, Board, Strategy</td>\n",
       "      <td>11/07/2008</td>\n",
       "      <td>5/09/2017</td>\n",
       "    </tr>\n",
       "    <tr>\n",
       "      <td>3</td>\n",
       "      <td>https://apps.apple.com/us/app/sudoku-free/id28...</td>\n",
       "      <td>285755462</td>\n",
       "      <td>Sudoku (Free)</td>\n",
       "      <td>NaN</td>\n",
       "      <td>https://is3-ssl.mzstatic.com/image/thumb/Purpl...</td>\n",
       "      <td>3.5</td>\n",
       "      <td>190394.0</td>\n",
       "      <td>0.00</td>\n",
       "      <td>NaN</td>\n",
       "      <td>Top 100 free app for over a year.\\nRated \"Best...</td>\n",
       "      <td>Mighty Mighty Good Games</td>\n",
       "      <td>4+</td>\n",
       "      <td>DA, NL, EN, FI, FR, DE, IT, JA, KO, NB, PL, PT...</td>\n",
       "      <td>21552128.0</td>\n",
       "      <td>Games</td>\n",
       "      <td>Games, Strategy, Puzzle</td>\n",
       "      <td>23/07/2008</td>\n",
       "      <td>30/05/2017</td>\n",
       "    </tr>\n",
       "    <tr>\n",
       "      <td>4</td>\n",
       "      <td>https://apps.apple.com/us/app/senet-deluxe/id2...</td>\n",
       "      <td>285831220</td>\n",
       "      <td>Senet Deluxe</td>\n",
       "      <td>NaN</td>\n",
       "      <td>https://is1-ssl.mzstatic.com/image/thumb/Purpl...</td>\n",
       "      <td>3.5</td>\n",
       "      <td>28.0</td>\n",
       "      <td>2.99</td>\n",
       "      <td>NaN</td>\n",
       "      <td>\"Senet Deluxe - The Ancient Game of Life and A...</td>\n",
       "      <td>RoGame Software</td>\n",
       "      <td>4+</td>\n",
       "      <td>DA, NL, EN, FR, DE, EL, IT, JA, KO, NO, PT, RU...</td>\n",
       "      <td>34689024.0</td>\n",
       "      <td>Games</td>\n",
       "      <td>Games, Strategy, Board, Education</td>\n",
       "      <td>18/07/2008</td>\n",
       "      <td>22/07/2018</td>\n",
       "    </tr>\n",
       "  </tbody>\n",
       "</table>\n",
       "</div>"
      ],
      "text/plain": [
       "                                                 URL         ID  \\\n",
       "0   https://apps.apple.com/us/app/sudoku/id284921427  284921427   \n",
       "1  https://apps.apple.com/us/app/reversi/id284926400  284926400   \n",
       "2  https://apps.apple.com/us/app/morocco/id284946595  284946595   \n",
       "3  https://apps.apple.com/us/app/sudoku-free/id28...  285755462   \n",
       "4  https://apps.apple.com/us/app/senet-deluxe/id2...  285831220   \n",
       "\n",
       "            Name Subtitle                                           Icon_URL  \\\n",
       "0         Sudoku      NaN  https://is2-ssl.mzstatic.com/image/thumb/Purpl...   \n",
       "1        Reversi      NaN  https://is4-ssl.mzstatic.com/image/thumb/Purpl...   \n",
       "2        Morocco      NaN  https://is5-ssl.mzstatic.com/image/thumb/Purpl...   \n",
       "3  Sudoku (Free)      NaN  https://is3-ssl.mzstatic.com/image/thumb/Purpl...   \n",
       "4   Senet Deluxe      NaN  https://is1-ssl.mzstatic.com/image/thumb/Purpl...   \n",
       "\n",
       "   Average_User_Rating  User_Rating_Count  Price In-app_Purchases  \\\n",
       "0                  4.0             3553.0   2.99              NaN   \n",
       "1                  3.5              284.0   1.99              NaN   \n",
       "2                  3.0             8376.0   0.00              NaN   \n",
       "3                  3.5           190394.0   0.00              NaN   \n",
       "4                  3.5               28.0   2.99              NaN   \n",
       "\n",
       "                                         Description  \\\n",
       "0  Join over 21,000,000 of our fans and download ...   \n",
       "1  The classic game of Reversi, also known as Oth...   \n",
       "2  Play the classic strategy game Othello (also k...   \n",
       "3  Top 100 free app for over a year.\\nRated \"Best...   \n",
       "4  \"Senet Deluxe - The Ancient Game of Life and A...   \n",
       "\n",
       "                  Developer Age_Rating  \\\n",
       "0  Mighty Mighty Good Games         4+   \n",
       "1          Kiss The Machine         4+   \n",
       "2               Bayou Games         4+   \n",
       "3  Mighty Mighty Good Games         4+   \n",
       "4           RoGame Software         4+   \n",
       "\n",
       "                                           Languages        Size  \\\n",
       "0  DA, NL, EN, FI, FR, DE, IT, JA, KO, NB, PL, PT...  15853568.0   \n",
       "1                                                 EN  12328960.0   \n",
       "2                                                 EN    674816.0   \n",
       "3  DA, NL, EN, FI, FR, DE, IT, JA, KO, NB, PL, PT...  21552128.0   \n",
       "4  DA, NL, EN, FR, DE, EL, IT, JA, KO, NO, PT, RU...  34689024.0   \n",
       "\n",
       "  Primary_Genre                             Genres Original_Release_Date  \\\n",
       "0         Games            Games, Strategy, Puzzle            11/07/2008   \n",
       "1         Games             Games, Strategy, Board            11/07/2008   \n",
       "2         Games             Games, Board, Strategy            11/07/2008   \n",
       "3         Games            Games, Strategy, Puzzle            23/07/2008   \n",
       "4         Games  Games, Strategy, Board, Education            18/07/2008   \n",
       "\n",
       "  Current_Version_Release_Date  \n",
       "0                   30/05/2017  \n",
       "1                   17/05/2018  \n",
       "2                    5/09/2017  \n",
       "3                   30/05/2017  \n",
       "4                   22/07/2018  "
      ]
     },
     "execution_count": 5,
     "metadata": {},
     "output_type": "execute_result"
    }
   ],
   "source": [
    "df.head(5)  #info about the filtered data"
   ]
  },
  {
   "cell_type": "code",
   "execution_count": 6,
   "metadata": {},
   "outputs": [
    {
     "name": "stdout",
     "output_type": "stream",
     "text": [
      "{' Stickers', ' Business', ' Books', ' Navigation', ' People', ' Board', ' Sports', ' Weather', ' Education', ' Utilities', ' Action', ' Reference', ' Word', ' Health & Fitness', ' Family', ' Role Playing', ' Casual', ' News', ' Productivity', ' Travel', ' Strategy', ' Puzzle', ' Photo & Video', ' Emoji & Expressions', 'Games', ' Lifestyle', ' Adventure', ' Trivia', ' Shopping', ' Casino', ' Social Networking', ' Entertainment', ' Finance', ' Food & Drink', ' Card', ' Gaming', ' Magazines & Newspapers', ' Medical', ' Racing', ' Simulation', ' Music'}\n"
     ]
    },
    {
     "data": {
      "text/plain": [
       "41"
      ]
     },
     "execution_count": 6,
     "metadata": {},
     "output_type": "execute_result"
    }
   ],
   "source": [
    "c=df.Genres.unique()\n",
    "array=[]\n",
    "for i in range (716):\n",
    "    array.append(c[i].split(','))\n",
    "result = set(x for l in array for x in l)  #all the unique genres in the data is stored in the set named 'result'\n",
    "print(result)\n",
    "len(result)"
   ]
  },
  {
   "cell_type": "code",
   "execution_count": 7,
   "metadata": {},
   "outputs": [
    {
     "name": "stdout",
     "output_type": "stream",
     "text": [
      "[2, 29, 29, 12, 1, 1663, 623, 1, 729, 100, 1957, 52, 112, 29, 726, 1096, 1673, 13, 47, 92, 16285, 3849, 25, 1, 16286, 210, 800, 257, 3, 73, 117, 7793, 33, 53, 627, 2, 1, 5, 125, 2068, 105]\n"
     ]
    }
   ],
   "source": [
    "temp=[]\n",
    "result2=[]\n",
    "for j in df.Genres:\n",
    "    temp.append(j.split(','))\n",
    "\n",
    "for i in result:\n",
    "    count=0    \n",
    "    for j in range(16286):\n",
    "        for k in temp[j]:\n",
    "            if i==k:\n",
    "                count=count+1   #storing the count of all the unique genres in list named 'result2'\n",
    "    result2.append(count)\n",
    "print(result2)"
   ]
  },
  {
   "cell_type": "code",
   "execution_count": 8,
   "metadata": {},
   "outputs": [
    {
     "name": "stdout",
     "output_type": "stream",
     "text": [
      " Stickers 2\n",
      " Business 29\n",
      " Books 29\n",
      " Navigation 12\n",
      " People 1\n",
      " Board 1663\n",
      " Sports 623\n",
      " Weather 1\n",
      " Education 729\n",
      " Utilities 100\n",
      " Action 1957\n",
      " Reference 52\n",
      " Word 112\n",
      " Health & Fitness 29\n",
      " Family 726\n",
      " Role Playing 1096\n",
      " Casual 1673\n",
      " News 13\n",
      " Productivity 47\n",
      " Travel 92\n",
      " Strategy 16285\n",
      " Puzzle 3849\n",
      " Photo & Video 25\n",
      " Emoji & Expressions 1\n",
      "Games 16286\n",
      " Lifestyle 210\n",
      " Adventure 800\n",
      " Trivia 257\n",
      " Shopping 3\n",
      " Casino 73\n",
      " Social Networking 117\n",
      " Entertainment 7793\n",
      " Finance 33\n",
      " Food & Drink 53\n",
      " Card 627\n",
      " Gaming 2\n",
      " Magazines & Newspapers 1\n",
      " Medical 5\n",
      " Racing 125\n",
      " Simulation 2068\n",
      " Music 105\n"
     ]
    }
   ],
   "source": [
    "for i, j in zip(result,result2):\n",
    "    print (i, j)  #genre and its corresponding count in the data"
   ]
  },
  {
   "cell_type": "code",
   "execution_count": 11,
   "metadata": {},
   "outputs": [
    {
     "data": {
      "image/png": "[encoded data removed]",
      "text/plain": [
       "<Figure size 720x576 with 1 Axes>"
      ]
     },
     "metadata": {
      "needs_background": "light"
     },
     "output_type": "display_data"
    }
   ],
   "source": [
    "plt.title('Different Genres and the corresponding number of games')\n",
    "y_pos = np.arange(len(result))\n",
    "plt.bar(y_pos, result2, align='center', alpha=0.5)\n",
    "plt.ylabel('Number of games')\n",
    "plt.xticks(y_pos,result)\n",
    "fig_size = plt.rcParams[\"figure.figsize\"]\n",
    "fig_size[0] = 10\n",
    "fig_size[1] = 8\n",
    "plt.rcParams[\"figure.figsize\"] = fig_size\n",
    "plt.xticks(rotation=90)\n",
    "plt.show()   #First task wherein we the signifance of each genre\n",
    "             #Games , Strategy , Entertainment , Puzzle emerge as the top 4"
   ]
  },
  {
   "cell_type": "code",
   "execution_count": 12,
   "metadata": {},
   "outputs": [
    {
     "data": {
      "text/html": [
       "<div>\n",
       "<style scoped>\n",
       "    .dataframe tbody tr th:only-of-type {\n",
       "        vertical-align: middle;\n",
       "    }\n",
       "\n",
       "    .dataframe tbody tr th {\n",
       "        vertical-align: top;\n",
       "    }\n",
       "\n",
       "    .dataframe thead th {\n",
       "        text-align: right;\n",
       "    }\n",
       "</style>\n",
       "<table border=\"1\" class=\"dataframe\">\n",
       "  <thead>\n",
       "    <tr style=\"text-align: right;\">\n",
       "      <th></th>\n",
       "      <th>URL</th>\n",
       "      <th>ID</th>\n",
       "      <th>Name</th>\n",
       "      <th>Subtitle</th>\n",
       "      <th>Icon_URL</th>\n",
       "      <th>Average_User_Rating</th>\n",
       "      <th>User_Rating_Count</th>\n",
       "      <th>Price</th>\n",
       "      <th>In-app_Purchases</th>\n",
       "      <th>Description</th>\n",
       "      <th>Developer</th>\n",
       "      <th>Age_Rating</th>\n",
       "      <th>Languages</th>\n",
       "      <th>Size</th>\n",
       "      <th>Primary_Genre</th>\n",
       "      <th>Genres</th>\n",
       "      <th>Original_Release_Date</th>\n",
       "      <th>Current_Version_Release_Date</th>\n",
       "    </tr>\n",
       "  </thead>\n",
       "  <tbody>\n",
       "    <tr>\n",
       "      <td>0</td>\n",
       "      <td>https://apps.apple.com/us/app/sudoku/id284921427</td>\n",
       "      <td>284921427</td>\n",
       "      <td>Sudoku</td>\n",
       "      <td>NaN</td>\n",
       "      <td>https://is2-ssl.mzstatic.com/image/thumb/Purpl...</td>\n",
       "      <td>4.0</td>\n",
       "      <td>3553.0</td>\n",
       "      <td>2.99</td>\n",
       "      <td>NaN</td>\n",
       "      <td>Join over 21,000,000 of our fans and download ...</td>\n",
       "      <td>Mighty Mighty Good Games</td>\n",
       "      <td>4+</td>\n",
       "      <td>DA, NL, EN, FI, FR, DE, IT, JA, KO, NB, PL, PT...</td>\n",
       "      <td>15853568.0</td>\n",
       "      <td>Games</td>\n",
       "      <td>Games, Strategy, Puzzle</td>\n",
       "      <td>11/07/2008</td>\n",
       "      <td>30/05/2017</td>\n",
       "    </tr>\n",
       "    <tr>\n",
       "      <td>26</td>\n",
       "      <td>https://apps.apple.com/us/app/fieldrunners/id2...</td>\n",
       "      <td>292421271</td>\n",
       "      <td>Fieldrunners</td>\n",
       "      <td>NaN</td>\n",
       "      <td>https://is1-ssl.mzstatic.com/image/thumb/Purpl...</td>\n",
       "      <td>4.0</td>\n",
       "      <td>41869.0</td>\n",
       "      <td>2.99</td>\n",
       "      <td>0.99, 0.99, 0.99, 0.99</td>\n",
       "      <td>OVERVIEW\\n\\nThe invasion begins!  Pint sized s...</td>\n",
       "      <td>Subatomic Studios, LLC</td>\n",
       "      <td>9+</td>\n",
       "      <td>EN</td>\n",
       "      <td>75041792.0</td>\n",
       "      <td>Games</td>\n",
       "      <td>Games, Entertainment, Action, Strategy</td>\n",
       "      <td>5/10/2008</td>\n",
       "      <td>11/04/2018</td>\n",
       "    </tr>\n",
       "    <tr>\n",
       "      <td>33</td>\n",
       "      <td>https://apps.apple.com/us/app/chess-tchess-pro...</td>\n",
       "      <td>295445501</td>\n",
       "      <td>Chess - tChess Pro</td>\n",
       "      <td>For beginners to professionals</td>\n",
       "      <td>https://is1-ssl.mzstatic.com/image/thumb/Purpl...</td>\n",
       "      <td>4.0</td>\n",
       "      <td>3062.0</td>\n",
       "      <td>7.99</td>\n",
       "      <td>NaN</td>\n",
       "      <td>tChess Pro is the high-quality, critically acc...</td>\n",
       "      <td>Tom Kerrigan</td>\n",
       "      <td>4+</td>\n",
       "      <td>EN, FR, DE, JA, KO, ZH</td>\n",
       "      <td>7517184.0</td>\n",
       "      <td>Games</td>\n",
       "      <td>Games, Board, Entertainment, Strategy</td>\n",
       "      <td>5/11/2008</td>\n",
       "      <td>7/04/2019</td>\n",
       "    </tr>\n",
       "    <tr>\n",
       "      <td>41</td>\n",
       "      <td>https://apps.apple.com/us/app/strategery/id298...</td>\n",
       "      <td>298908505</td>\n",
       "      <td>Strategery</td>\n",
       "      <td>NaN</td>\n",
       "      <td>https://is3-ssl.mzstatic.com/image/thumb/Purpl...</td>\n",
       "      <td>4.0</td>\n",
       "      <td>2798.0</td>\n",
       "      <td>1.99</td>\n",
       "      <td>NaN</td>\n",
       "      <td>Strategery is a fast-paced game of world domin...</td>\n",
       "      <td>Affogato LLC</td>\n",
       "      <td>4+</td>\n",
       "      <td>EN</td>\n",
       "      <td>15547392.0</td>\n",
       "      <td>Games</td>\n",
       "      <td>Games, Board, Strategy, Entertainment</td>\n",
       "      <td>9/12/2008</td>\n",
       "      <td>17/06/2017</td>\n",
       "    </tr>\n",
       "    <tr>\n",
       "      <td>45</td>\n",
       "      <td>https://apps.apple.com/us/app/lux-dlx-3-map-co...</td>\n",
       "      <td>299813413</td>\n",
       "      <td>Lux DLX 3 - Map Conquest Game</td>\n",
       "      <td>World Domination Supreme!</td>\n",
       "      <td>https://is3-ssl.mzstatic.com/image/thumb/Purpl...</td>\n",
       "      <td>4.0</td>\n",
       "      <td>5629.0</td>\n",
       "      <td>4.99</td>\n",
       "      <td>NaN</td>\n",
       "      <td>Lux DLX is an epic game of strategy &amp; conquest...</td>\n",
       "      <td>Sillysoft Games</td>\n",
       "      <td>9+</td>\n",
       "      <td>DA, NL, EN, FR, DE, IT, NO, NB, PT, ES, SV</td>\n",
       "      <td>93993984.0</td>\n",
       "      <td>Games</td>\n",
       "      <td>Games, Strategy, Board, Entertainment</td>\n",
       "      <td>19/12/2008</td>\n",
       "      <td>26/03/2019</td>\n",
       "    </tr>\n",
       "  </tbody>\n",
       "</table>\n",
       "</div>"
      ],
      "text/plain": [
       "                                                  URL         ID  \\\n",
       "0    https://apps.apple.com/us/app/sudoku/id284921427  284921427   \n",
       "26  https://apps.apple.com/us/app/fieldrunners/id2...  292421271   \n",
       "33  https://apps.apple.com/us/app/chess-tchess-pro...  295445501   \n",
       "41  https://apps.apple.com/us/app/strategery/id298...  298908505   \n",
       "45  https://apps.apple.com/us/app/lux-dlx-3-map-co...  299813413   \n",
       "\n",
       "                             Name                        Subtitle  \\\n",
       "0                          Sudoku                             NaN   \n",
       "26                   Fieldrunners                             NaN   \n",
       "33             Chess - tChess Pro  For beginners to professionals   \n",
       "41                     Strategery                             NaN   \n",
       "45  Lux DLX 3 - Map Conquest Game       World Domination Supreme!   \n",
       "\n",
       "                                             Icon_URL  Average_User_Rating  \\\n",
       "0   https://is2-ssl.mzstatic.com/image/thumb/Purpl...                  4.0   \n",
       "26  https://is1-ssl.mzstatic.com/image/thumb/Purpl...                  4.0   \n",
       "33  https://is1-ssl.mzstatic.com/image/thumb/Purpl...                  4.0   \n",
       "41  https://is3-ssl.mzstatic.com/image/thumb/Purpl...                  4.0   \n",
       "45  https://is3-ssl.mzstatic.com/image/thumb/Purpl...                  4.0   \n",
       "\n",
       "    User_Rating_Count  Price        In-app_Purchases  \\\n",
       "0              3553.0   2.99                     NaN   \n",
       "26            41869.0   2.99  0.99, 0.99, 0.99, 0.99   \n",
       "33             3062.0   7.99                     NaN   \n",
       "41             2798.0   1.99                     NaN   \n",
       "45             5629.0   4.99                     NaN   \n",
       "\n",
       "                                          Description  \\\n",
       "0   Join over 21,000,000 of our fans and download ...   \n",
       "26  OVERVIEW\\n\\nThe invasion begins!  Pint sized s...   \n",
       "33  tChess Pro is the high-quality, critically acc...   \n",
       "41  Strategery is a fast-paced game of world domin...   \n",
       "45  Lux DLX is an epic game of strategy & conquest...   \n",
       "\n",
       "                   Developer Age_Rating  \\\n",
       "0   Mighty Mighty Good Games         4+   \n",
       "26    Subatomic Studios, LLC         9+   \n",
       "33              Tom Kerrigan         4+   \n",
       "41              Affogato LLC         4+   \n",
       "45           Sillysoft Games         9+   \n",
       "\n",
       "                                            Languages        Size  \\\n",
       "0   DA, NL, EN, FI, FR, DE, IT, JA, KO, NB, PL, PT...  15853568.0   \n",
       "26                                                 EN  75041792.0   \n",
       "33                             EN, FR, DE, JA, KO, ZH   7517184.0   \n",
       "41                                                 EN  15547392.0   \n",
       "45         DA, NL, EN, FR, DE, IT, NO, NB, PT, ES, SV  93993984.0   \n",
       "\n",
       "   Primary_Genre                                  Genres  \\\n",
       "0          Games                 Games, Strategy, Puzzle   \n",
       "26         Games  Games, Entertainment, Action, Strategy   \n",
       "33         Games   Games, Board, Entertainment, Strategy   \n",
       "41         Games   Games, Board, Strategy, Entertainment   \n",
       "45         Games   Games, Strategy, Board, Entertainment   \n",
       "\n",
       "   Original_Release_Date Current_Version_Release_Date  \n",
       "0             11/07/2008                   30/05/2017  \n",
       "26             5/10/2008                   11/04/2018  \n",
       "33             5/11/2008                    7/04/2019  \n",
       "41             9/12/2008                   17/06/2017  \n",
       "45            19/12/2008                   26/03/2019  "
      ]
     },
     "execution_count": 12,
     "metadata": {},
     "output_type": "execute_result"
    }
   ],
   "source": [
    "ef=df[(df.Average_User_Rating>=4.0)&(df.User_Rating_Count>=1000.0)].copy()  #copying all the values in ef where avg user rating is\n",
    "ef.head(5)                                                                  #more than 4 and reviews count greater than 1000\n"
   ]
  },
  {
   "cell_type": "code",
   "execution_count": 13,
   "metadata": {},
   "outputs": [
    {
     "name": "stdout",
     "output_type": "stream",
     "text": [
      "[0, 2, 2, 0, 0, 79, 21, 0, 18, 2, 225, 1, 1, 2, 38, 180, 56, 0, 0, 0, 1040, 109, 1, 0, 1040, 9, 36, 2, 0, 2, 13, 576, 1, 0, 52, 0, 0, 0, 3, 223, 4]\n"
     ]
    }
   ],
   "source": [
    "temp=[]\n",
    "result2=[]\n",
    "for j in ef.Genres:\n",
    "    temp.append(j.split(','))\n",
    "\n",
    "for i in result:\n",
    "    count=0    \n",
    "    for j in range(1040):\n",
    "        for k in temp[j]:\n",
    "            if i==k:\n",
    "                count=count+1\n",
    "    result2.append(count)   #storing the count of all the unique genres with the above mentioned condition\n",
    "print(result2)"
   ]
  },
  {
   "cell_type": "code",
   "execution_count": 14,
   "metadata": {},
   "outputs": [
    {
     "name": "stdout",
     "output_type": "stream",
     "text": [
      " Stickers 0\n",
      " Business 2\n",
      " Books 2\n",
      " Navigation 0\n",
      " People 0\n",
      " Board 79\n",
      " Sports 21\n",
      " Weather 0\n",
      " Education 18\n",
      " Utilities 2\n",
      " Action 225\n",
      " Reference 1\n",
      " Word 1\n",
      " Health & Fitness 2\n",
      " Family 38\n",
      " Role Playing 180\n",
      " Casual 56\n",
      " News 0\n",
      " Productivity 0\n",
      " Travel 0\n",
      " Strategy 1040\n",
      " Puzzle 109\n",
      " Photo & Video 1\n",
      " Emoji & Expressions 0\n",
      "Games 1040\n",
      " Lifestyle 9\n",
      " Adventure 36\n",
      " Trivia 2\n",
      " Shopping 0\n",
      " Casino 2\n",
      " Social Networking 13\n",
      " Entertainment 576\n",
      " Finance 1\n",
      " Food & Drink 0\n",
      " Card 52\n",
      " Gaming 0\n",
      " Magazines & Newspapers 0\n",
      " Medical 0\n",
      " Racing 3\n",
      " Simulation 223\n",
      " Music 4\n"
     ]
    }
   ],
   "source": [
    "for i, j in zip(result,result2):\n",
    "    print (i, j)  #genres and its corresponding count"
   ]
  },
  {
   "cell_type": "code",
   "execution_count": 32,
   "metadata": {},
   "outputs": [
    {
     "data": {
      "image/png": "[encoded data removed]",
      "text/plain": [
       "<Figure size 720x576 with 1 Axes>"
      ]
     },
     "metadata": {
      "needs_background": "light"
     },
     "output_type": "display_data"
    }
   ],
   "source": [
    "plt.title('Different Genres and the corresponding number of games with atleast 4* and 1000 reviews')\n",
    "y_pos = np.arange(len(result))\n",
    "plt.bar(y_pos, result2, align='center', alpha=0.5)\n",
    "plt.ylabel('Number of games')\n",
    "plt.xticks(y_pos,result)\n",
    "fig_size = plt.rcParams[\"figure.figsize\"]\n",
    "fig_size[0] = 10\n",
    "fig_size[1] = 8\n",
    "plt.rcParams[\"figure.figsize\"] = fig_size\n",
    "plt.xticks(rotation=90)\n",
    "plt.show()  #Games, Startegy , Entertainment , Action emerge as the top 4"
   ]
  },
  {
   "cell_type": "code",
   "execution_count": 31,
   "metadata": {},
   "outputs": [
    {
     "name": "stdout",
     "output_type": "stream",
     "text": [
      "0.8985655737704918\n"
     ]
    }
   ],
   "source": [
    "ef=df['In-app_Purchases'].dropna()\n",
    "ef=df[(df.Average_User_Rating>=4.0)&(df.User_Rating_Count>=1000.0)&(df.Price==0.0)]\n",
    "positive=ef['ID'].count()\n",
    "ef=df['In-app_Purchases'].dropna()\n",
    "ef=df[(df.Average_User_Rating<4.0)&(df.User_Rating_Count>=1000.0)&(df.Price==0.0)]\n",
    "negative=ef['ID'].count()\n",
    "ratio=positive/(positive+negative)\n",
    "print(ratio)    #The ratio of positive reviews when the app is free"
   ]
  },
  {
   "cell_type": "code",
   "execution_count": 23,
   "metadata": {},
   "outputs": [
    {
     "name": "stdout",
     "output_type": "stream",
     "text": [
      "0.8810810810810811\n"
     ]
    }
   ],
   "source": [
    "ef=df['In-app_Purchases'].dropna()\n",
    "ef=df[(df.Average_User_Rating>=4.0)&(df.User_Rating_Count>=1000.0)&(df.Price>0.0)]\n",
    "positive=ef['ID'].count()\n",
    "ef=df['In-app_Purchases'].dropna()\n",
    "ef=df[(df.Average_User_Rating<4.0)&(df.User_Rating_Count>=1000.0)&(df.Price>0.0)]\n",
    "negative=ef['ID'].count()\n",
    "ratio=positive/(positive+negative)\n",
    "print(ratio)    #The ratio of positive reviews when the app is paid"
   ]
  },
  {
   "cell_type": "code",
   "execution_count": 96,
   "metadata": {},
   "outputs": [
    {
     "data": {
      "text/plain": [
       "4112384.0"
      ]
     },
     "execution_count": 96,
     "metadata": {},
     "output_type": "execute_result"
    }
   ],
   "source": [
    "ef=df[(df.Average_User_Rating>=4.0)&(df.User_Rating_Count>=1000.0)].copy()  \n",
    "ef['Size'].max()\n",
    "ef['Size'].min()"
   ]
  }
 ],
 "metadata": {
  "kernelspec": {
   "display_name": "Python 3",
   "language": "python",
   "name": "python3"
  },
  "language_info": {
   "codemirror_mode": {
    "name": "ipython",
    "version": 3
   },
   "file_extension": ".py",
   "mimetype": "text/x-python",
   "name": "python",
   "nbconvert_exporter": "python",
   "pygments_lexer": "ipython3",
   "version": "3.7.4"
  }
 },
 "nbformat": 4,
 "nbformat_minor": 2
}
